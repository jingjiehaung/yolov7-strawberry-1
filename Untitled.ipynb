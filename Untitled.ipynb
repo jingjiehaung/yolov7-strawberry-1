{
 "cells": [
  {
   "cell_type": "code",
   "execution_count": 1,
   "id": "11f5ddf1",
   "metadata": {},
   "outputs": [],
   "source": [
    "# 匯入函式庫\n",
    "import os\n",
    "import cv2\n",
    "import time\n",
    "\n",
    "# 設定照片儲存資料夾路徑\n",
    "path = \"vedio\"\n",
    "# 如果照片路徑不存在，就建立這個資料夾\n",
    "if not os.path.isdir(path):\n",
    "    os.mkdir(path)"
   ]
  },
  {
   "cell_type": "code",
   "execution_count": 8,
   "id": "9d7715d4",
   "metadata": {},
   "outputs": [],
   "source": [
    "# 設定從哪顆鏡頭讀取影像，本範例中為video0\n",
    "webcam = cv2.VideoCapture(0)\n",
    "\n",
    "# 設定擷取影像的尺寸大小\n",
    "webcam.set(cv2.CAP_PROP_FRAME_WIDTH, 1080)\n",
    "webcam.set(cv2.CAP_PROP_FRAME_HEIGHT, 720)\n",
    "\n",
    "date=time.strftime(\"%Y-%m-%d_%H-%M-%S\")\n",
    "\n",
    "# 使用 XVID 編碼\n",
    "fourcc = cv2.VideoWriter_fourcc(*'XVID')\n",
    "\n",
    "# 建立 VideoWriter 物件，輸出影片至 Video.mp4\n",
    "# FPS 值為 20.0，解析度為 640x480\n",
    "out = cv2.VideoWriter(path+\"/\"+str(date)+\".mp4\", fourcc, 60.0, (1080, 720))\n",
    "\n",
    "\n",
    "while(webcam.isOpened()):\n",
    "    return_value, frame = webcam.read()\n",
    "    if return_value == True:\n",
    "        # 寫入影格\n",
    "        out.write(frame)\n",
    "        # 顯示影像\n",
    "        cv2.imshow('frame',frame)\n",
    "    else:\n",
    "        break\n",
    "    # 按下 q 鍵跳出迴圈結束錄影\n",
    "    if cv2.waitKey(1) & 0xFF == ord('q'):\n",
    "        break\n",
    "\n",
    "# 釋放所有資源\n",
    "webcam.release()\n",
    "out.release()\n",
    "cv2.destroyAllWindows()"
   ]
  },
  {
   "cell_type": "code",
   "execution_count": null,
   "id": "e4070e1b",
   "metadata": {},
   "outputs": [],
   "source": []
  }
 ],
 "metadata": {
  "kernelspec": {
   "display_name": "opencv",
   "language": "python",
   "name": "opencv"
  },
  "language_info": {
   "codemirror_mode": {
    "name": "ipython",
    "version": 3
   },
   "file_extension": ".py",
   "mimetype": "text/x-python",
   "name": "python",
   "nbconvert_exporter": "python",
   "pygments_lexer": "ipython3",
   "version": "3.7.13"
  }
 },
 "nbformat": 4,
 "nbformat_minor": 5
}
