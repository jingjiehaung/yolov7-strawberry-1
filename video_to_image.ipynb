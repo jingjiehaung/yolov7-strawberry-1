{
  "cells": [
    {
      "cell_type": "code",
      "execution_count": null,
      "id": "1498e145",
      "metadata": {
        "id": "1498e145",
        "outputId": "50de431d-6356-452f-9dcd-de8f262416a5"
      },
      "outputs": [
        {
          "name": "stdout",
          "output_type": "stream",
          "text": [
            "2023-01-10_09-31-21\n",
            "\n",
            "2023-01-10_09-34-47\n",
            "\n",
            "2023-01-10_09-40-15\n",
            "\n",
            "2023-01-10_09-49-59\n",
            "\n",
            "2023-01-10_09-51-04\n",
            "\n",
            "2023-01-10_09-57-10\n",
            "\n",
            "2023-01-10_09-59-34\n",
            "\n",
            "2023-01-10_10-02-33\n",
            "\n",
            "2023-01-10_10-05-13\n",
            "\n",
            "2023-01-10_10-10-02\n",
            "\n",
            "2023-01-10_10-15-57\n",
            "\n",
            "2023-01-10_10-20-27\n",
            "\n",
            "2023-01-10_10-23-48\n",
            "\n",
            "2023-01-10_10-28-40\n",
            "\n",
            "2023-01-10_10-31-02\n",
            "\n",
            "2023-01-10_10-34-39\n",
            "\n",
            "2023-01-10_12-42-22\n",
            "\n",
            "2023-01-10_12-59-46\n",
            "\n",
            "2023-01-10_13-02-28\n",
            "\n",
            "2023-01-10_13-05-32\n",
            "\n",
            "2023-01-10_13-09-01\n",
            "\n",
            "2023-01-10_13-11-37\n",
            "\n",
            "2023-01-10_13-14-14\n",
            "\n",
            "2023-01-10_13-17-11\n",
            "\n",
            "2023-01-10_13-20-23\n",
            "\n",
            "2023-01-10_13-22-46\n",
            "\n",
            "2023-01-10_13-24-54\n",
            "\n",
            "2023-01-10_13-30-50\n",
            "\n",
            "2023-01-10_13-34-25\n",
            "\n",
            "2023-01-10_13-37-45\n",
            "\n",
            "images\n",
            "\n"
          ]
        },
        {
          "data": {
            "text/plain": [
              "<function destroyAllWindows>"
            ]
          },
          "execution_count": 8,
          "metadata": {},
          "output_type": "execute_result"
        }
      ],
      "source": [
        "import cv2\n",
        "import os\n",
        "\n",
        "def get_images_from_video(video_name, time_F):\n",
        "    video_images = []\n",
        "    vc = cv2.VideoCapture(video_name)\n",
        "    print()\n",
        "    c = 1\n",
        "    \n",
        "    if vc.isOpened(): #判斷是否開啟影片\n",
        "        rval, video_frame = vc.read()\n",
        "    else:\n",
        "        rval = False\n",
        "\n",
        "    while rval:   #擷取視頻至結束\n",
        "        rval, video_frame = vc.read()\n",
        "        \n",
        "        if(c % time_F == 0): #每隔幾幀進行擷取\n",
        "            video_images.append(video_frame)     \n",
        "        c = c + 1\n",
        "    vc.release()\n",
        "    \n",
        "    return video_images\n",
        "\n",
        "time_F = 4  #time_F越小，取樣張數越多\n",
        "\n",
        "video_folder_path = 'top/' #影片名稱  改\n",
        "video_names = os.listdir(video_folder_path)\n",
        "\n",
        "video_file = 'top/images/'  #改\n",
        "\n",
        "\n",
        "for video_name in video_names:  # output all files\n",
        "    #print(video_name)\n",
        "    image_name = video_name.split(\".\")[0]\n",
        "    print(image_name)\n",
        "    video_images = get_images_from_video(video_folder_path+video_name, time_F) #讀取影片並轉成圖片\n",
        "    for i in range(0, len(video_images)): #顯示出所有擷取之圖片\n",
        "        name =  video_file+image_name+\"_top_\" +str(i)+\".jpg\"   #top or slide\n",
        "        #print(name)\n",
        "        cv2.imwrite(name, video_images[i])\n",
        "        #cv2.imshow('windows', video_images[i])\n",
        "        #cv2.waitKey(100)\n",
        "    \n",
        "\n",
        "cv2.destroyAllWindows"
      ]
    },
    {
      "cell_type": "code",
      "execution_count": null,
      "id": "567ea078",
      "metadata": {
        "id": "567ea078"
      },
      "outputs": [],
      "source": []
    }
  ],
  "metadata": {
    "kernelspec": {
      "display_name": "opencv",
      "language": "python",
      "name": "opencv"
    },
    "language_info": {
      "codemirror_mode": {
        "name": "ipython",
        "version": 3
      },
      "file_extension": ".py",
      "mimetype": "text/x-python",
      "name": "python",
      "nbconvert_exporter": "python",
      "pygments_lexer": "ipython3",
      "version": "3.7.13"
    },
    "colab": {
      "provenance": []
    }
  },
  "nbformat": 4,
  "nbformat_minor": 5
}