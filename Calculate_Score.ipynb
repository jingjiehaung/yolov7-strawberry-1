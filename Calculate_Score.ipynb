{
 "cells": [
  {
   "cell_type": "code",
   "execution_count": null,
   "id": "fcfcca90",
   "metadata": {},
   "outputs": [],
   "source": [
    "import os\n",
    "import cv2\n",
    "import numpy as np\n",
    "import glob\n",
    "import pandas as pd\n",
    "from tensorflow.keras import backend as K\n",
    "\n",
    "def dice_coef(y_true, y_pred, smooth=0):\n",
    "    intersection = K.sum(y_true * y_pred, axis=[0,1])\n",
    "    union = K.sum(y_true, axis=[0,1]) + K.sum(y_pred, axis=[0,1])\n",
    "    return K.mean((2. * intersection + smooth) / (union + smooth), axis=0)\n",
    "\n",
    "def Calculate_Score(answer_path, prediction_path):\n",
    "    answer_path = answer_path\n",
    "    prediction_path = prediction_path\n",
    "    answer_list = os.listdir(answer_path)\n",
    "    prediction_list = os.listdir(prediction_path)\n",
    "    #print(answer_list)\n",
    "    #print(prediction_list)\n",
    "    \n",
    "    B_score = []\n",
    "    G_score = []\n",
    "    R_score = []\n",
    "    for i in range(len(answer_list)):\n",
    "        ans = cv2.imread(f'{answer_path}{answer_list[i]}').astype('float32')\n",
    "        ans[:, :, 0] = np.where(ans[:, :, 0] > 1, 1, 0)\n",
    "        ans[:, :, 1] = np.where(ans[:, :, 1] > 1, 1, 0)\n",
    "        ans[:, :, 2] = np.where(ans[:, :, 2] > 1, 1, 0)\n",
    "        pre = cv2.imread(f'{prediction_path}{prediction_list[i]}').astype('float32')\n",
    "        pre[:, :, 0] = np.where(pre[:, :, 0] > 1, 1, 0)\n",
    "        pre[:, :, 1] = np.where(pre[:, :, 1] > 1, 1, 0)\n",
    "        pre[:, :, 2] = np.where(pre[:, :, 2] > 1, 1, 0)\n",
    "\n",
    "        \n",
    "        for j in range(0,3):\n",
    "            # BGR\n",
    "            dice = dice_coef(ans[:,:,0+j:1+j], pre[:,:,0+j:1+j])\n",
    "            dice_score = dice.numpy()\n",
    "            if np.isnan(dice_score):\n",
    "                print(prediction_list[i])\n",
    "            \n",
    "            if j == 0:\n",
    "                B_score.append(dice_score)\n",
    "            elif j == 1:\n",
    "                G_score.append(dice_score)\n",
    "            else:\n",
    "                R_score.append(dice_score)\n",
    "    print(np.mean(B_score))\n",
    "    print(np.mean(G_score))\n",
    "    print(np.mean(R_score))\n",
    "    print('The final score : ', (np.mean(B_score)+np.mean(G_score)+np.mean(R_score))/3)"
   ]
  },
  {
   "cell_type": "code",
   "execution_count": null,
   "id": "707409c3",
   "metadata": {},
   "outputs": [],
   "source": [
    "Calculate_Score(\"train_data/images/ori/\",\"runs/detect/yolov7part1/pre/\")"
   ]
  }
 ],
 "metadata": {
  "kernelspec": {
   "display_name": "Python 3 (ipykernel)",
   "language": "python",
   "name": "python3"
  },
  "language_info": {
   "codemirror_mode": {
    "name": "ipython",
    "version": 3
   },
   "file_extension": ".py",
   "mimetype": "text/x-python",
   "name": "python",
   "nbconvert_exporter": "python",
   "pygments_lexer": "ipython3",
   "version": "3.9.12"
  }
 },
 "nbformat": 4,
 "nbformat_minor": 5
}
