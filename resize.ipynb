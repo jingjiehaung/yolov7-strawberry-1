import cv2
import os
import glob
ori_path = r'C:/Users/LAIMM/jingjie/yolov7-main/train_data/data/*.jpg'

save_path ="C:/Users/LAIMM/jingjie/yolov7-main/train_data/resize_data/"

if not os.path.isdir(save_path):
    os.mkdir(save_path)

#file= os.listdir(ori_path)

images = glob.glob(ori_path)

#print(len(images))

for i in range(len(images)):
    img = cv2.imread(images[i])
    #print(img)
    #cv2.imshow("0",img)
    #print(images[i])
    resize = cv2.resize(img,(img.shape[1]//3,img.shape[0]//3))
    cv2.imwrite(save_path+str(images[i].split("\\")[-1]),resize)
    #cv2.waitKey(10)
print("end")
