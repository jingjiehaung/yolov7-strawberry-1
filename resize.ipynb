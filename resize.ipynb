{
 "cells": [
  {
   "cell_type": "code",
   "execution_count": null,
   "id": "d89bf8e5",
   "metadata": {},
   "outputs": [],
   "source": [
    "import cv2\n",
    "import os\n",
    "import glob\n",
    "ori_path = r'C:/Users/LAIMM/jingjie/yolov7-main/train_data/data/*.jpg'\n",
    "\n",
    "save_path =\"C:/Users/LAIMM/jingjie/yolov7-main/train_data/resize_data/\"\n",
    "\n",
    "if not os.path.isdir(save_path):\n",
    "    os.mkdir(save_path)\n",
    "\n",
    "#file= os.listdir(ori_path)\n",
    "\n",
    "images = glob.glob(ori_path)\n",
    "\n",
    "#print(len(images))\n",
    "\n",
    "for i in range(len(images)):\n",
    "    img = cv2.imread(images[i])\n",
    "    #print(img)\n",
    "    #cv2.imshow(\"0\",img)\n",
    "    #print(images[i])\n",
    "    resize = cv2.resize(img,(img.shape[1]//3,img.shape[0]//3))\n",
    "    cv2.imwrite(save_path+str(images[i].split(\"\\\\\")[-1]),resize)\n",
    "    #cv2.waitKey(10)\n",
    "print(\"end\")"
   ]
  }
 ],
 "metadata": {
  "kernelspec": {
   "display_name": "Python 3 (ipykernel)",
   "language": "python",
   "name": "python3"
  },
  "language_info": {
   "codemirror_mode": {
    "name": "ipython",
    "version": 3
   },
   "file_extension": ".py",
   "mimetype": "text/x-python",
   "name": "python",
   "nbconvert_exporter": "python",
   "pygments_lexer": "ipython3",
   "version": "3.9.12"
  }
 },
 "nbformat": 4,
 "nbformat_minor": 5
}
